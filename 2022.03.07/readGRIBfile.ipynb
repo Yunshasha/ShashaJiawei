{
 "cells": [
  {
   "cell_type": "code",
   "execution_count": 1,
   "id": "b016d5f9-a548-419f-80c6-46911fed483b",
   "metadata": {},
   "outputs": [
    {
     "name": "stderr",
     "output_type": "stream",
     "text": [
      "2022-04-09 15:05:14,232 INFO Welcome to the CDS\n",
      "2022-04-09 15:05:14,248 INFO Sending request to https://ads.atmosphere.copernicus.eu/api/v2/resources/cams-europe-air-quality-forecasts\n",
      "2022-04-09 15:05:14,282 INFO Request is queued\n",
      "2022-04-09 15:05:15,314 INFO Request is running\n",
      "2022-04-09 15:05:19,118 INFO Request is completed\n",
      "2022-04-09 15:05:19,133 INFO Downloading https://download-0002-ads-clone.copernicus-climate.eu/cache-compute-0002/cache/data2/adaptor.cams_regional_fc.retrieve-1649509520.6888952-27032-10-681fd4b2-c912-4132-bd2e-5c3e2cca669a.grib to download.grib (1.7M)\n",
      "2022-04-09 15:05:19,464 INFO Download rate 5.1M/s                              \n"
     ]
    },
    {
     "data": {
      "text/plain": [
       "Result(content_length=1764372,content_type=application/x-grib,location=https://download-0002-ads-clone.copernicus-climate.eu/cache-compute-0002/cache/data2/adaptor.cams_regional_fc.retrieve-1649509520.6888952-27032-10-681fd4b2-c912-4132-bd2e-5c3e2cca669a.grib)"
      ]
     },
     "execution_count": 1,
     "metadata": {},
     "output_type": "execute_result"
    }
   ],
   "source": [
    "import xarray as xr\n",
    "import cdsapi\n",
    "import numpy as np\n",
    "import sys\n",
    "import os\n",
    "\n",
    "c = cdsapi.Client()\n",
    "\n",
    "c.retrieve(\n",
    "    'cams-europe-air-quality-forecasts',\n",
    "    {\n",
    "        'model': 'ensemble',\n",
    "        'date': '2022-04-07/2022-04-09',\n",
    "        'format': 'grib',\n",
    "        'variable': 'particulate_matter_10um',\n",
    "        'level': '0',\n",
    "        'type': 'analysis',\n",
    "        'time': '00:00',\n",
    "        'leadtime_hour': '0',\n",
    "    },\n",
    "    'download.grib')"
   ]
  },
  {
   "cell_type": "markdown",
   "id": "d2afc6ca-e5a3-4f52-8344-0d9f0437a63f",
   "metadata": {},
   "source": [
    "获得GRIB文件的数据"
   ]
  },
  {
   "cell_type": "code",
   "execution_count": 3,
   "id": "72c10543-c03c-4892-8d18-7a9d667ac1bf",
   "metadata": {},
   "outputs": [],
   "source": [
    "obj = xr.open_dataset('download.grib', engine = 'cfgrib')"
   ]
  },
  {
   "cell_type": "code",
   "execution_count": 4,
   "id": "bcffef11-8c2f-4665-8661-d04968554e0c",
   "metadata": {},
   "outputs": [
    {
     "name": "stdout",
     "output_type": "stream",
     "text": [
      "<xarray.Dataset>\n",
      "Dimensions:     (time: 2, latitude: 420, longitude: 700)\n",
      "Coordinates:\n",
      "  * time        (time) datetime64[ns] 2022-04-07 2022-04-08\n",
      "    step        timedelta64[ns] ...\n",
      "    surface     float64 ...\n",
      "  * latitude    (latitude) float64 71.95 71.85 71.75 71.65 ... 30.25 30.15 30.05\n",
      "  * longitude   (longitude) float64 -24.95 -24.85 -24.75 ... 44.75 44.85 44.95\n",
      "    valid_time  (time) datetime64[ns] ...\n",
      "Data variables:\n",
      "    unknown     (time, latitude, longitude) float32 ...\n",
      "Attributes:\n",
      "    GRIB_edition:            2\n",
      "    GRIB_centre:             lfpw\n",
      "    GRIB_centreDescription:  French Weather Service - Toulouse\n",
      "    GRIB_subCentre:          2\n",
      "    Conventions:             CF-1.7\n",
      "    institution:             French Weather Service - Toulouse\n",
      "    history:                 2022-04-09T15:08 GRIB to CDM+CF via cfgrib-0.9.1...\n"
     ]
    }
   ],
   "source": [
    "print (obj)"
   ]
  },
  {
   "cell_type": "markdown",
   "id": "3d78e4e9-a18f-43ce-b4db-7d4c6efa9f3b",
   "metadata": {},
   "source": [
    "读取每个维度的具体信息，例如time"
   ]
  },
  {
   "cell_type": "code",
   "execution_count": 5,
   "id": "a4a27cc7-a176-47e8-9983-3cb202ed62d3",
   "metadata": {},
   "outputs": [
    {
     "name": "stdout",
     "output_type": "stream",
     "text": [
      "<xarray.DataArray 'time' (time: 2)>\n",
      "array(['2022-04-07T00:00:00.000000000', '2022-04-08T00:00:00.000000000'],\n",
      "      dtype='datetime64[ns]')\n",
      "Coordinates:\n",
      "  * time        (time) datetime64[ns] 2022-04-07 2022-04-08\n",
      "    step        timedelta64[ns] ...\n",
      "    surface     float64 ...\n",
      "    valid_time  (time) datetime64[ns] ...\n",
      "Attributes:\n",
      "    long_name:      initial time of forecast\n",
      "    standard_name:  forecast_reference_time\n"
     ]
    }
   ],
   "source": [
    "tm = data['time']\n",
    "print (tm)"
   ]
  },
  {
   "cell_type": "markdown",
   "id": "3505b31e-b83f-404d-b8bc-93f17effef34",
   "metadata": {},
   "source": [
    "读取变量，例如unknown"
   ]
  },
  {
   "cell_type": "code",
   "execution_count": 6,
   "id": "87d5d2a0-b02c-4e9f-bb25-4be7726c1f45",
   "metadata": {},
   "outputs": [
    {
     "name": "stdout",
     "output_type": "stream",
     "text": [
      "<xarray.DataArray 'unknown' (time: 2, latitude: 420, longitude: 700)>\n",
      "[588000 values with dtype=float32]\n",
      "Coordinates:\n",
      "  * time        (time) datetime64[ns] 2022-04-07 2022-04-08\n",
      "    step        timedelta64[ns] ...\n",
      "    surface     float64 ...\n",
      "  * latitude    (latitude) float64 71.95 71.85 71.75 71.65 ... 30.25 30.15 30.05\n",
      "  * longitude   (longitude) float64 -24.95 -24.85 -24.75 ... 44.75 44.85 44.95\n",
      "    valid_time  (time) datetime64[ns] ...\n",
      "Attributes:\n",
      "    GRIB_paramId:                             0\n",
      "    GRIB_dataType:                            an\n",
      "    GRIB_numberOfPoints:                      294000\n",
      "    GRIB_typeOfLevel:                         surface\n",
      "    GRIB_stepUnits:                           1\n",
      "    GRIB_stepType:                            instant\n",
      "    GRIB_gridType:                            regular_ll\n",
      "    GRIB_NV:                                  0\n",
      "    GRIB_Nx:                                  700\n",
      "    GRIB_Ny:                                  420\n",
      "    GRIB_cfName:                              unknown\n",
      "    GRIB_cfVarName:                           unknown\n",
      "    GRIB_gridDefinitionDescription:           Latitude/longitude\n",
      "    GRIB_iDirectionIncrementInDegrees:        0.1\n",
      "    GRIB_iScansNegatively:                    0\n",
      "    GRIB_jDirectionIncrementInDegrees:        0.1\n",
      "    GRIB_jPointsAreConsecutive:               0\n",
      "    GRIB_jScansPositively:                    0\n",
      "    GRIB_latitudeOfFirstGridPointInDegrees:   71.95\n",
      "    GRIB_latitudeOfLastGridPointInDegrees:    30.05\n",
      "    GRIB_longitudeOfFirstGridPointInDegrees:  335.05\n",
      "    GRIB_longitudeOfLastGridPointInDegrees:   44.95\n",
      "    GRIB_missingValue:                        9999\n",
      "    GRIB_name:                                unknown\n",
      "    GRIB_shortName:                           unknown\n",
      "    GRIB_units:                               unknown\n",
      "    long_name:                                unknown\n",
      "    units:                                    unknown\n",
      "    standard_name:                            unknown\n"
     ]
    }
   ],
   "source": [
    "un = data['unknown']\n",
    "print (un)"
   ]
  },
  {
   "cell_type": "markdown",
   "id": "5c7db76d-b5ca-4a05-88a6-f24e7ae53308",
   "metadata": {},
   "source": [
    "读取变量的详细属性"
   ]
  },
  {
   "cell_type": "code",
   "execution_count": 7,
   "id": "e26f4f1f-a5ce-4884-80a3-946b84d0de59",
   "metadata": {},
   "outputs": [
    {
     "name": "stdout",
     "output_type": "stream",
     "text": [
      "{'GRIB_paramId': 0, 'GRIB_dataType': 'an', 'GRIB_numberOfPoints': 294000, 'GRIB_typeOfLevel': 'surface', 'GRIB_stepUnits': 1, 'GRIB_stepType': 'instant', 'GRIB_gridType': 'regular_ll', 'GRIB_NV': 0, 'GRIB_Nx': 700, 'GRIB_Ny': 420, 'GRIB_cfName': 'unknown', 'GRIB_cfVarName': 'unknown', 'GRIB_gridDefinitionDescription': 'Latitude/longitude', 'GRIB_iDirectionIncrementInDegrees': 0.1, 'GRIB_iScansNegatively': 0, 'GRIB_jDirectionIncrementInDegrees': 0.1, 'GRIB_jPointsAreConsecutive': 0, 'GRIB_jScansPositively': 0, 'GRIB_latitudeOfFirstGridPointInDegrees': 71.95, 'GRIB_latitudeOfLastGridPointInDegrees': 30.05, 'GRIB_longitudeOfFirstGridPointInDegrees': 335.05, 'GRIB_longitudeOfLastGridPointInDegrees': 44.95, 'GRIB_missingValue': 9999, 'GRIB_name': 'unknown', 'GRIB_shortName': 'unknown', 'GRIB_units': 'unknown', 'long_name': 'unknown', 'units': 'unknown', 'standard_name': 'unknown'}\n"
     ]
    }
   ],
   "source": [
    "print (un.attrs)"
   ]
  },
  {
   "cell_type": "code",
   "execution_count": null,
   "id": "251c723b-9c55-4b77-82dc-b1c2f7667778",
   "metadata": {},
   "outputs": [],
   "source": []
  }
 ],
 "metadata": {
  "kernelspec": {
   "display_name": "Python 3 (ipykernel)",
   "language": "python",
   "name": "python3"
  },
  "language_info": {
   "codemirror_mode": {
    "name": "ipython",
    "version": 3
   },
   "file_extension": ".py",
   "mimetype": "text/x-python",
   "name": "python",
   "nbconvert_exporter": "python",
   "pygments_lexer": "ipython3",
   "version": "3.7.12"
  }
 },
 "nbformat": 4,
 "nbformat_minor": 5
}
