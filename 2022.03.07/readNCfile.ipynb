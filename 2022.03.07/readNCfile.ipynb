{
 "cells": [
  {
   "cell_type": "code",
   "execution_count": 9,
   "id": "1cd502c2-6caf-4596-88e8-7bb7a69166b0",
   "metadata": {},
   "outputs": [
    {
     "name": "stderr",
     "output_type": "stream",
     "text": [
      "2022-03-28 14:26:22,630 INFO Welcome to the CDS\n",
      "2022-03-28 14:26:22,638 INFO Sending request to https://ads.atmosphere.copernicus.eu/api/v2/resources/cams-europe-air-quality-forecasts\n",
      "2022-03-28 14:26:22,670 INFO Request is queued\n",
      "2022-03-28 14:26:23,712 INFO Request is completed\n",
      "2022-03-28 14:26:23,712 INFO Downloading https://download-0003-ads-clone.copernicus-climate.eu/cache-compute-0003/cache/data0/adaptor.cams_regional_fc.retrieve-1648470387.0087066-24050-5-fdae3949-c6f8-4673-b5bf-fbf78687c9d0.nc to download.nc (3.4M)\n",
      "2022-03-28 14:26:24,980 INFO Download rate 2.7M/s                              \n"
     ]
    },
    {
     "data": {
      "text/plain": [
       "Result(content_length=3533744,content_type=application/x-netcdf,location=https://download-0003-ads-clone.copernicus-climate.eu/cache-compute-0003/cache/data0/adaptor.cams_regional_fc.retrieve-1648470387.0087066-24050-5-fdae3949-c6f8-4673-b5bf-fbf78687c9d0.nc)"
      ]
     },
     "execution_count": 9,
     "metadata": {},
     "output_type": "execute_result"
    }
   ],
   "source": [
    "import cdsapi\n",
    "import netCDF4\n",
    "from netCDF4 import Dataset\n",
    "import numpy as np\n",
    "import sys\n",
    "import os\n",
    "c = cdsapi.Client()\n",
    "\n",
    "c.retrieve(\n",
    "    'cams-europe-air-quality-forecasts',\n",
    "    {\n",
    "        'variable': 'particulate_matter_2.5um',\n",
    "        'model': 'ensemble',\n",
    "        'level': '1000',\n",
    "        'date': '2022-03-22/2022-03-24',\n",
    "        'type': 'analysis',\n",
    "        'time': '00:00',\n",
    "        'leadtime_hour': '0',\n",
    "        'format': 'netcdf',\n",
    "    },\n",
    "    'download.nc')"
   ]
  },
  {
   "cell_type": "markdown",
   "id": "c2146c57-b37a-49ec-bdf5-fa0010b817c9",
   "metadata": {},
   "source": [
    "读入nc文件"
   ]
  },
  {
   "cell_type": "code",
   "execution_count": 12,
   "id": "4e8939f4-4039-4d75-8e46-6ebc035c59a1",
   "metadata": {},
   "outputs": [],
   "source": [
    "obj = Dataset('download.nc');"
   ]
  },
  {
   "cell_type": "code",
   "execution_count": 13,
   "id": "8849b9a9-ab15-45a9-9486-bdef7bf72f19",
   "metadata": {
    "collapsed": true,
    "jupyter": {
     "outputs_hidden": true
    },
    "tags": []
   },
   "outputs": [
    {
     "name": "stdout",
     "output_type": "stream",
     "text": [
      "<class 'netCDF4._netCDF4.Dataset'>\n",
      "root group (NETCDF3_CLASSIC data model, file format NETCDF3):\n",
      "    title: PM25 Air Pollutant ANALYSIS at 1 levels\n",
      "    institution: Data produced by Meteo France\n",
      "    source: Data from ENSEMBLE model\n",
      "    history: Model ENSEMBLE ANALYSIS\n",
      "    ANALYSIS: Europe, 20220322-20220324+[0H_0H]\n",
      "    summary: ENSEMBLE model hourly ANALYSIS of PM25 concentration at 1 levels from 20220322-20220324+[0H_0H] on Europe\n",
      "    project: MACC-RAQ (http://macc-raq.gmes-atmosphere.eu)\n",
      "    dimensions(sizes): longitude(700), latitude(420), level(1), time(3)\n",
      "    variables(dimensions): float32 longitude(longitude), float32 latitude(latitude), float32 level(level), float32 time(time), float32 pm2p5_conc(time, level, latitude, longitude)\n",
      "    groups: \n"
     ]
    }
   ],
   "source": [
    "print(obj);"
   ]
  },
  {
   "cell_type": "markdown",
   "id": "3fb969cd-c3a5-4d13-a875-526dfa5c1c99",
   "metadata": {},
   "source": [
    "查看文件的variables"
   ]
  },
  {
   "cell_type": "code",
   "execution_count": 14,
   "id": "a8a84b9f-2cdf-4bc7-81b1-8cfb1b3ec217",
   "metadata": {},
   "outputs": [
    {
     "name": "stdout",
     "output_type": "stream",
     "text": [
      "dict_keys(['longitude', 'latitude', 'level', 'time', 'pm2p5_conc'])\n",
      "----------\n",
      "longitude\n",
      "<class 'netCDF4._netCDF4.Variable'>\n",
      "float32 longitude(longitude)\n",
      "    long_name: longitude\n",
      "    units: degrees_east\n",
      "unlimited dimensions: \n",
      "current shape = (700,)\n",
      "filling on, default _FillValue of 9.969209968386869e+36 used\n",
      "----------\n",
      "latitude\n",
      "<class 'netCDF4._netCDF4.Variable'>\n",
      "float32 latitude(latitude)\n",
      "    long_name: latitude\n",
      "    units: degrees_north\n",
      "unlimited dimensions: \n",
      "current shape = (420,)\n",
      "filling on, default _FillValue of 9.969209968386869e+36 used\n",
      "----------\n",
      "level\n",
      "<class 'netCDF4._netCDF4.Variable'>\n",
      "float32 level(level)\n",
      "    long_name: level\n",
      "    units: m\n",
      "unlimited dimensions: \n",
      "current shape = (1,)\n",
      "filling on, default _FillValue of 9.969209968386869e+36 used\n",
      "----------\n",
      "time\n",
      "<class 'netCDF4._netCDF4.Variable'>\n",
      "float32 time(time)\n",
      "    long_name: ANALYSIS time from 20220322\n",
      "    units: hours\n",
      "unlimited dimensions: time\n",
      "current shape = (3,)\n",
      "filling on, default _FillValue of 9.969209968386869e+36 used\n",
      "----------\n",
      "pm2p5_conc\n",
      "<class 'netCDF4._netCDF4.Variable'>\n",
      "float32 pm2p5_conc(time, level, latitude, longitude)\n",
      "    _FillValue: -999.0\n",
      "    species: PM2.5 Aerosol\n",
      "    units: µg/m3\n",
      "    value: hourly values\n",
      "    standard_name: mass_concentration_of_pm2p5_ambient_aerosol_in_air\n",
      "unlimited dimensions: time\n",
      "current shape = (3, 1, 420, 700)\n",
      "filling on\n"
     ]
    }
   ],
   "source": [
    "print(obj.variables.keys())\n",
    "for i in obj.variables.keys():\n",
    "        print('----------');\n",
    "        print(i)\n",
    "        print(obj.variables[i])"
   ]
  },
  {
   "cell_type": "markdown",
   "id": "c8c4afa9-2218-4f2c-a6cf-09dfcd84a317",
   "metadata": {},
   "source": [
    "查看variables信息"
   ]
  },
  {
   "cell_type": "code",
   "execution_count": 17,
   "id": "7e2997c8-3c1f-40bd-ae48-f507e065a8de",
   "metadata": {},
   "outputs": [
    {
     "name": "stdout",
     "output_type": "stream",
     "text": [
      "<class 'netCDF4._netCDF4.Variable'>\n",
      "float32 pm2p5_conc(time, level, latitude, longitude)\n",
      "    _FillValue: -999.0\n",
      "    species: PM2.5 Aerosol\n",
      "    units: µg/m3\n",
      "    value: hourly values\n",
      "    standard_name: mass_concentration_of_pm2p5_ambient_aerosol_in_air\n",
      "unlimited dimensions: time\n",
      "current shape = (3, 1, 420, 700)\n",
      "filling on\n"
     ]
    }
   ],
   "source": [
    "print(obj.variables['pm2p5_conc'])"
   ]
  },
  {
   "cell_type": "markdown",
   "id": "d9733691-b61c-47bf-9fd5-01da956c3765",
   "metadata": {},
   "source": [
    "读取数据值"
   ]
  },
  {
   "cell_type": "code",
   "execution_count": 19,
   "id": "38d67dc3-1c42-4076-a0fc-8904434f1357",
   "metadata": {
    "tags": []
   },
   "outputs": [],
   "source": [
    "pm25con = obj.variables['pm2p5_conc'][:]"
   ]
  },
  {
   "cell_type": "code",
   "execution_count": 23,
   "id": "2e9f2b62-c5a9-48b4-aebf-4ebeb209b7e2",
   "metadata": {},
   "outputs": [
    {
     "name": "stdout",
     "output_type": "stream",
     "text": [
      "[[[[ 0.51211554  0.6447099   0.6967287  ...  1.9709095   1.946474\n",
      "     1.9381819 ]\n",
      "   [ 0.63794553  0.6799883   0.7032728  ...  2.1227667   2.1192496\n",
      "     2.1104174 ]\n",
      "   [ 0.64073086  0.67543375  0.7467154  ...  1.9585105   1.9738938\n",
      "     1.9791589 ]\n",
      "   ...\n",
      "   [ 2.2670922   2.3493233   2.386641   ... 35.696983   34.97589\n",
      "    34.225594  ]\n",
      "   [ 2.229952    2.291755    2.3419833  ... 34.91867    34.29414\n",
      "    33.38205   ]\n",
      "   [ 2.2305205   2.3087726   2.368863   ... 34.22832    33.897064\n",
      "    33.791542  ]]]\n",
      "\n",
      "\n",
      " [[[ 0.4569467   0.48862982  0.48874703 ...  0.9072816   0.9007446\n",
      "     0.90753025]\n",
      "   [ 0.5040379   0.57676554  0.6008991  ...  0.9158934   0.9149341\n",
      "     0.9142911 ]\n",
      "   [ 0.5234002   0.5511469   0.6270258  ...  0.92178375  0.920789\n",
      "     0.94117093]\n",
      "   ...\n",
      "   [ 5.424241    5.398526    5.363486   ... 24.714293   25.499275\n",
      "    26.413599  ]\n",
      "   [ 5.422127    5.388849    5.363731   ... 25.264626   25.395733\n",
      "    25.598248  ]\n",
      "   [ 5.415366    5.4045124   5.356814   ... 26.00251    26.126234\n",
      "    25.353981  ]]]\n",
      "\n",
      "\n",
      " [[[ 0.67068404  0.8030013   0.83449256 ...  0.8172903   0.8126221\n",
      "     0.80865014]\n",
      "   [ 1.162337    1.2332776   1.2714764  ...  0.83619785  0.83111745\n",
      "     0.8291706 ]\n",
      "   [ 1.0267938   0.9853408   1.2111939  ...  0.86410797  0.857841\n",
      "     0.85921234]\n",
      "   ...\n",
      "   [ 3.236809    3.111448    3.137191   ... 18.488218   20.149431\n",
      "    20.610971  ]\n",
      "   [ 3.0123203   2.8171058   2.7900696  ... 21.880627   22.171665\n",
      "    21.937016  ]\n",
      "   [ 2.7356846   2.742776    2.7661526  ... 23.4777     23.481337\n",
      "    23.148462  ]]]]\n",
      "-----------------\n",
      "(3, 1, 420, 700)\n"
     ]
    }
   ],
   "source": [
    "print(pm25con)\n",
    "print('-----------------')\n",
    "print(np.shape(pm25con))"
   ]
  },
  {
   "cell_type": "markdown",
   "id": "ad6550cd-fc36-4ff9-a6e0-04a193554c14",
   "metadata": {},
   "source": [
    "查看variables的属性"
   ]
  },
  {
   "cell_type": "code",
   "execution_count": 20,
   "id": "8b93fd0b-10ab-414d-8ff5-cad6c881ef59",
   "metadata": {},
   "outputs": [
    {
     "name": "stdout",
     "output_type": "stream",
     "text": [
      "['_FillValue', 'species', 'units', 'value', 'standard_name']\n"
     ]
    }
   ],
   "source": [
    "print(obj.variables['pm2p5_conc'].ncattrs())"
   ]
  },
  {
   "cell_type": "code",
   "execution_count": null,
   "id": "53fc5bb7-4fb9-4d8d-bee3-6f260c86e082",
   "metadata": {},
   "outputs": [],
   "source": []
  }
 ],
 "metadata": {
  "kernelspec": {
   "display_name": "Python 3 (ipykernel)",
   "language": "python",
   "name": "python3"
  },
  "language_info": {
   "codemirror_mode": {
    "name": "ipython",
    "version": 3
   },
   "file_extension": ".py",
   "mimetype": "text/x-python",
   "name": "python",
   "nbconvert_exporter": "python",
   "pygments_lexer": "ipython3",
   "version": "3.7.12"
  }
 },
 "nbformat": 4,
 "nbformat_minor": 5
}
